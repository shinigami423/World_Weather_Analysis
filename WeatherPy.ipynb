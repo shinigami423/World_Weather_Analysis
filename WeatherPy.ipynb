{
 "cells": [
  {
   "cell_type": "code",
   "execution_count": 1,
   "id": "e91d6ca3",
   "metadata": {},
   "outputs": [],
   "source": [
    "%matplotlib inline\n",
    "# Import the dependencies.\n",
    "import pandas as pd\n",
    "import matplotlib.pyplot as plt\n",
    "import numpy as np"
   ]
  },
  {
   "cell_type": "code",
   "execution_count": 2,
   "id": "13998a4c",
   "metadata": {},
   "outputs": [],
   "source": [
    "# Import the datetime module from the datetime library.\n",
    "from datetime import datetime"
   ]
  },
  {
   "cell_type": "code",
   "execution_count": 3,
   "id": "5e50bc7d",
   "metadata": {},
   "outputs": [],
   "source": [
    "# Import the requests library.\n",
    "import requests\n",
    "\n",
    "# Import the API key.\n",
    "from config import weather_api_key"
   ]
  },
  {
   "cell_type": "code",
   "execution_count": 4,
   "id": "975f7f7c",
   "metadata": {},
   "outputs": [],
   "source": [
    "# Starting URL for Weather Map API Call.\n",
    "url = \"http://api.openweathermap.org/data/2.5/weather?units=Imperial&APPID=\" + weather_api_key\n",
    "# print(url)\n",
    "\n",
    "\n",
    "# url = \"http://api.openweathermap.org/data/2.5/weather?units=Imperial&APPID=\" + weather_api_key + \"&q=\" + city"
   ]
  },
  {
   "cell_type": "code",
   "execution_count": 5,
   "id": "365072f0",
   "metadata": {},
   "outputs": [
    {
     "data": {
      "text/plain": [
       "<zip at 0x2068a6dc308>"
      ]
     },
     "execution_count": 5,
     "metadata": {},
     "output_type": "execute_result"
    }
   ],
   "source": [
    "# Create a set of random latitude and longitude combinations.\n",
    "lats = np.random.uniform(low=-90.000, high=90.000, size=50)\n",
    "lngs = np.random.uniform(low=-180.000, high=180.000, size=50)\n",
    "lat_lngs = zip(lats, lngs)\n",
    "lat_lngs"
   ]
  },
  {
   "cell_type": "code",
   "execution_count": 6,
   "id": "c8286671",
   "metadata": {},
   "outputs": [],
   "source": [
    "# Add the latitudes and longitudes to a list.\n",
    "coordinates = list(lat_lngs)"
   ]
  },
  {
   "cell_type": "code",
   "execution_count": 7,
   "id": "f667c670",
   "metadata": {},
   "outputs": [],
   "source": [
    "# Use the citipy module to determine city based on latitude and longitude.\n",
    "from citipy import citipy"
   ]
  },
  {
   "cell_type": "code",
   "execution_count": 8,
   "id": "c81268a0",
   "metadata": {},
   "outputs": [
    {
     "name": "stdout",
     "output_type": "stream",
     "text": [
      "bilibino ru\n",
      "albany au\n",
      "panalingaan ph\n",
      "saryshagan kz\n",
      "albany au\n",
      "thompson ca\n",
      "colquiri bo\n",
      "hongjiang cn\n",
      "ushuaia ar\n",
      "namibe ao\n",
      "ballina au\n",
      "kavaratti in\n",
      "taolanaro mg\n",
      "alofi nu\n",
      "hilo us\n",
      "gunnedah au\n",
      "camacha pt\n",
      "tuktoyaktuk ca\n",
      "champerico gt\n",
      "pevek ru\n",
      "fairbanks us\n",
      "tuktoyaktuk ca\n",
      "kununurra au\n",
      "kapaa us\n",
      "atuona pf\n",
      "punta arenas cl\n",
      "melton au\n",
      "sant ro\n",
      "grand river south east mu\n",
      "belushya guba ru\n",
      "krasnoborsk ru\n",
      "afua br\n",
      "mar del plata ar\n",
      "ushuaia ar\n",
      "punta arenas cl\n",
      "dikson ru\n",
      "carnarvon au\n",
      "camacha pt\n",
      "tsihombe mg\n",
      "kodiak us\n",
      "cape town za\n",
      "albany au\n",
      "tsihombe mg\n",
      "guerrero negro mx\n",
      "albany au\n",
      "cherskiy ru\n",
      "cagayan de tawi-tawi ph\n",
      "izvoarele ro\n",
      "illoqqortoormiut gl\n",
      "severo-kurilsk ru\n"
     ]
    }
   ],
   "source": [
    "# Use the tuple() function to display the latitude and longitude combinations.\n",
    "for coordinate in coordinates:\n",
    "    print(citipy.nearest_city(coordinate[0], coordinate[1]).city_name,\n",
    "          citipy.nearest_city(coordinate[0], coordinate[1]).country_code)"
   ]
  },
  {
   "cell_type": "code",
   "execution_count": 9,
   "id": "407cf8e7",
   "metadata": {},
   "outputs": [
    {
     "data": {
      "text/plain": [
       "42"
      ]
     },
     "execution_count": 9,
     "metadata": {},
     "output_type": "execute_result"
    }
   ],
   "source": [
    "# Create a list for holding the cities.\n",
    "cities = []\n",
    "# Identify the nearest city for each latitude and longitude combination.\n",
    "for coordinate in coordinates:\n",
    "    city = citipy.nearest_city(coordinate[0], coordinate[1]).city_name\n",
    "\n",
    "    # If the city is unique, then we will add it to the cities list.\n",
    "    if city not in cities:\n",
    "        cities.append(city)\n",
    "# Print the city count to confirm sufficient count.\n",
    "len(cities)"
   ]
  },
  {
   "cell_type": "code",
   "execution_count": 10,
   "id": "2bd9dfc6",
   "metadata": {},
   "outputs": [
    {
     "name": "stdout",
     "output_type": "stream",
     "text": [
      "Beginning Data Retrieval     \n",
      "-----------------------------\n",
      "Processing Record 1 of Set 1 | bilibino\n",
      "Processing Record 2 of Set 1 | albany\n",
      "Processing Record 3 of Set 1 | panalingaan\n",
      "Processing Record 4 of Set 1 | saryshagan\n",
      "City not found. Skipping...\n",
      "Processing Record 5 of Set 1 | thompson\n",
      "Processing Record 6 of Set 1 | colquiri\n",
      "Processing Record 7 of Set 1 | hongjiang\n",
      "Processing Record 8 of Set 1 | ushuaia\n",
      "Processing Record 9 of Set 1 | namibe\n",
      "Processing Record 10 of Set 1 | ballina\n",
      "Processing Record 11 of Set 1 | kavaratti\n",
      "Processing Record 12 of Set 1 | taolanaro\n",
      "City not found. Skipping...\n",
      "Processing Record 13 of Set 1 | alofi\n",
      "Processing Record 14 of Set 1 | hilo\n",
      "Processing Record 15 of Set 1 | gunnedah\n",
      "Processing Record 16 of Set 1 | camacha\n",
      "Processing Record 17 of Set 1 | tuktoyaktuk\n",
      "Processing Record 18 of Set 1 | champerico\n",
      "Processing Record 19 of Set 1 | pevek\n",
      "Processing Record 20 of Set 1 | fairbanks\n",
      "Processing Record 21 of Set 1 | kununurra\n",
      "Processing Record 22 of Set 1 | kapaa\n",
      "Processing Record 23 of Set 1 | atuona\n",
      "Processing Record 24 of Set 1 | punta arenas\n",
      "Processing Record 25 of Set 1 | melton\n",
      "Processing Record 26 of Set 1 | sant\n",
      "Processing Record 27 of Set 1 | grand river south east\n",
      "City not found. Skipping...\n",
      "Processing Record 28 of Set 1 | belushya guba\n",
      "City not found. Skipping...\n",
      "Processing Record 29 of Set 1 | krasnoborsk\n",
      "Processing Record 30 of Set 1 | afua\n",
      "Processing Record 31 of Set 1 | mar del plata\n",
      "Processing Record 32 of Set 1 | dikson\n",
      "Processing Record 33 of Set 1 | carnarvon\n",
      "Processing Record 34 of Set 1 | tsihombe\n",
      "City not found. Skipping...\n",
      "Processing Record 35 of Set 1 | kodiak\n",
      "Processing Record 36 of Set 1 | cape town\n",
      "Processing Record 37 of Set 1 | guerrero negro\n",
      "Processing Record 38 of Set 1 | cherskiy\n",
      "Processing Record 39 of Set 1 | cagayan de tawi-tawi\n",
      "City not found. Skipping...\n",
      "Processing Record 40 of Set 1 | izvoarele\n",
      "Processing Record 41 of Set 1 | illoqqortoormiut\n",
      "City not found. Skipping...\n",
      "Processing Record 42 of Set 1 | severo-kurilsk\n",
      "-----------------------------\n",
      "Data Retrieval Complete      \n",
      "-----------------------------\n"
     ]
    }
   ],
   "source": [
    "# Create an empty list to hold the weather data.\n",
    "city_data = []\n",
    "# Print the beginning of the logging.\n",
    "print(\"Beginning Data Retrieval     \")\n",
    "print(\"-----------------------------\")\n",
    "\n",
    "# Create counters.\n",
    "record_count = 1\n",
    "set_count = 1\n",
    "\n",
    "# # Loop through all the cities in our list.\n",
    "# for i in range(len(cities)):\n",
    "\n",
    "#     # Group cities in sets of 50 for logging purposes.\n",
    "#     if (i % 50 == 0 and i >= 50):\n",
    "#         set_count += 1\n",
    "#         record_count = 1\n",
    "#     # Create endpoint URL with each city.\n",
    "#     city_url = url + \"&q=\" + cities[i]\n",
    "    \n",
    "    \n",
    "    \n",
    "# Loop through all the cities in the list.\n",
    "for i, city in enumerate(cities):\n",
    "\n",
    "    # Group cities in sets of 50 for logging purposes.\n",
    "    if (i % 50 == 0 and i >= 50):\n",
    "        set_count += 1\n",
    "        record_count = 1\n",
    "    # Create endpoint URL with each city.\n",
    "    city_url = url + \"&q=\" + city.replace(\" \",\"+\")\n",
    "\n",
    "    # Log the URL, record, and set numbers and the city.\n",
    "    print(f\"Processing Record {record_count} of Set {set_count} | {city}\")\n",
    "    # Add 1 to the record count.\n",
    "    record_count += 1\n",
    "    \n",
    "    \n",
    "    \n",
    "    # Run an API request for each of the cities.\n",
    "    try:\n",
    "        # Parse the JSON and retrieve data.\n",
    "        city_weather = requests.get(city_url).json()\n",
    "        # Parse out the needed data.\n",
    "        city_lat = city_weather[\"coord\"][\"lat\"]\n",
    "        city_lng = city_weather[\"coord\"][\"lon\"]\n",
    "        city_max_temp = city_weather[\"main\"][\"temp_max\"]\n",
    "        city_humidity = city_weather[\"main\"][\"humidity\"]\n",
    "        city_clouds = city_weather[\"clouds\"][\"all\"]\n",
    "        city_wind = city_weather[\"wind\"][\"speed\"]\n",
    "        city_country = city_weather[\"sys\"][\"country\"]\n",
    "        # Convert the date to ISO standard.\n",
    "        city_date = datetime.utcfromtimestamp(city_weather[\"dt\"]).strftime('%Y-%m-%d %H:%M:%S')\n",
    "        # Append the city information into city_data list.\n",
    "        city_data.append({\"City\": city.title(),\n",
    "                          \"Lat\": city_lat,\n",
    "                          \"Lng\": city_lng,\n",
    "                          \"Max Temp\": city_max_temp,\n",
    "                          \"Humidity\": city_humidity,\n",
    "                          \"Cloudiness\": city_clouds,\n",
    "                          \"Wind Speed\": city_wind,\n",
    "                          \"Country\": city_country,\n",
    "                          \"Date\": city_date})\n",
    "\n",
    "# If an error is experienced, skip the city.\n",
    "    except:\n",
    "        print(\"City not found. Skipping...\")\n",
    "        pass\n",
    "\n",
    "# Indicate that Data Loading is complete.\n",
    "print(\"-----------------------------\")\n",
    "print(\"Data Retrieval Complete      \")\n",
    "print(\"-----------------------------\")"
   ]
  },
  {
   "cell_type": "code",
   "execution_count": 11,
   "id": "b0574dc6",
   "metadata": {},
   "outputs": [
    {
     "data": {
      "text/html": [
       "<div>\n",
       "<style scoped>\n",
       "    .dataframe tbody tr th:only-of-type {\n",
       "        vertical-align: middle;\n",
       "    }\n",
       "\n",
       "    .dataframe tbody tr th {\n",
       "        vertical-align: top;\n",
       "    }\n",
       "\n",
       "    .dataframe thead th {\n",
       "        text-align: right;\n",
       "    }\n",
       "</style>\n",
       "<table border=\"1\" class=\"dataframe\">\n",
       "  <thead>\n",
       "    <tr style=\"text-align: right;\">\n",
       "      <th></th>\n",
       "      <th>City</th>\n",
       "      <th>Lat</th>\n",
       "      <th>Lng</th>\n",
       "      <th>Max Temp</th>\n",
       "      <th>Humidity</th>\n",
       "      <th>Cloudiness</th>\n",
       "      <th>Wind Speed</th>\n",
       "      <th>Country</th>\n",
       "      <th>Date</th>\n",
       "    </tr>\n",
       "  </thead>\n",
       "  <tbody>\n",
       "    <tr>\n",
       "      <th>0</th>\n",
       "      <td>Bilibino</td>\n",
       "      <td>68.0546</td>\n",
       "      <td>166.4372</td>\n",
       "      <td>64.80</td>\n",
       "      <td>34</td>\n",
       "      <td>100</td>\n",
       "      <td>3.65</td>\n",
       "      <td>RU</td>\n",
       "      <td>2021-07-23 00:31:00</td>\n",
       "    </tr>\n",
       "    <tr>\n",
       "      <th>1</th>\n",
       "      <td>Albany</td>\n",
       "      <td>42.6001</td>\n",
       "      <td>-73.9662</td>\n",
       "      <td>71.64</td>\n",
       "      <td>63</td>\n",
       "      <td>100</td>\n",
       "      <td>9.80</td>\n",
       "      <td>US</td>\n",
       "      <td>2021-07-23 00:32:14</td>\n",
       "    </tr>\n",
       "    <tr>\n",
       "      <th>2</th>\n",
       "      <td>Panalingaan</td>\n",
       "      <td>8.7842</td>\n",
       "      <td>117.4231</td>\n",
       "      <td>84.15</td>\n",
       "      <td>77</td>\n",
       "      <td>100</td>\n",
       "      <td>11.59</td>\n",
       "      <td>PH</td>\n",
       "      <td>2021-07-23 00:34:42</td>\n",
       "    </tr>\n",
       "    <tr>\n",
       "      <th>3</th>\n",
       "      <td>Thompson</td>\n",
       "      <td>55.7435</td>\n",
       "      <td>-97.8558</td>\n",
       "      <td>82.56</td>\n",
       "      <td>51</td>\n",
       "      <td>40</td>\n",
       "      <td>8.05</td>\n",
       "      <td>CA</td>\n",
       "      <td>2021-07-23 00:34:44</td>\n",
       "    </tr>\n",
       "    <tr>\n",
       "      <th>4</th>\n",
       "      <td>Colquiri</td>\n",
       "      <td>-17.4167</td>\n",
       "      <td>-67.1333</td>\n",
       "      <td>36.36</td>\n",
       "      <td>68</td>\n",
       "      <td>4</td>\n",
       "      <td>4.92</td>\n",
       "      <td>BO</td>\n",
       "      <td>2021-07-23 00:34:44</td>\n",
       "    </tr>\n",
       "    <tr>\n",
       "      <th>5</th>\n",
       "      <td>Hongjiang</td>\n",
       "      <td>27.1100</td>\n",
       "      <td>109.9956</td>\n",
       "      <td>82.45</td>\n",
       "      <td>81</td>\n",
       "      <td>100</td>\n",
       "      <td>3.20</td>\n",
       "      <td>CN</td>\n",
       "      <td>2021-07-23 00:34:45</td>\n",
       "    </tr>\n",
       "    <tr>\n",
       "      <th>6</th>\n",
       "      <td>Ushuaia</td>\n",
       "      <td>-54.8000</td>\n",
       "      <td>-68.3000</td>\n",
       "      <td>40.66</td>\n",
       "      <td>65</td>\n",
       "      <td>75</td>\n",
       "      <td>3.44</td>\n",
       "      <td>AR</td>\n",
       "      <td>2021-07-23 00:34:46</td>\n",
       "    </tr>\n",
       "    <tr>\n",
       "      <th>7</th>\n",
       "      <td>Namibe</td>\n",
       "      <td>-15.1961</td>\n",
       "      <td>12.1522</td>\n",
       "      <td>64.87</td>\n",
       "      <td>81</td>\n",
       "      <td>0</td>\n",
       "      <td>4.56</td>\n",
       "      <td>AO</td>\n",
       "      <td>2021-07-23 00:34:47</td>\n",
       "    </tr>\n",
       "    <tr>\n",
       "      <th>8</th>\n",
       "      <td>Ballina</td>\n",
       "      <td>-28.8667</td>\n",
       "      <td>153.5667</td>\n",
       "      <td>58.96</td>\n",
       "      <td>77</td>\n",
       "      <td>75</td>\n",
       "      <td>4.61</td>\n",
       "      <td>AU</td>\n",
       "      <td>2021-07-23 00:34:48</td>\n",
       "    </tr>\n",
       "    <tr>\n",
       "      <th>9</th>\n",
       "      <td>Kavaratti</td>\n",
       "      <td>10.5669</td>\n",
       "      <td>72.6420</td>\n",
       "      <td>81.59</td>\n",
       "      <td>81</td>\n",
       "      <td>100</td>\n",
       "      <td>25.77</td>\n",
       "      <td>IN</td>\n",
       "      <td>2021-07-23 00:34:49</td>\n",
       "    </tr>\n",
       "  </tbody>\n",
       "</table>\n",
       "</div>"
      ],
      "text/plain": [
       "          City      Lat       Lng  Max Temp  Humidity  Cloudiness  Wind Speed  \\\n",
       "0     Bilibino  68.0546  166.4372     64.80        34         100        3.65   \n",
       "1       Albany  42.6001  -73.9662     71.64        63         100        9.80   \n",
       "2  Panalingaan   8.7842  117.4231     84.15        77         100       11.59   \n",
       "3     Thompson  55.7435  -97.8558     82.56        51          40        8.05   \n",
       "4     Colquiri -17.4167  -67.1333     36.36        68           4        4.92   \n",
       "5    Hongjiang  27.1100  109.9956     82.45        81         100        3.20   \n",
       "6      Ushuaia -54.8000  -68.3000     40.66        65          75        3.44   \n",
       "7       Namibe -15.1961   12.1522     64.87        81           0        4.56   \n",
       "8      Ballina -28.8667  153.5667     58.96        77          75        4.61   \n",
       "9    Kavaratti  10.5669   72.6420     81.59        81         100       25.77   \n",
       "\n",
       "  Country                 Date  \n",
       "0      RU  2021-07-23 00:31:00  \n",
       "1      US  2021-07-23 00:32:14  \n",
       "2      PH  2021-07-23 00:34:42  \n",
       "3      CA  2021-07-23 00:34:44  \n",
       "4      BO  2021-07-23 00:34:44  \n",
       "5      CN  2021-07-23 00:34:45  \n",
       "6      AR  2021-07-23 00:34:46  \n",
       "7      AO  2021-07-23 00:34:47  \n",
       "8      AU  2021-07-23 00:34:48  \n",
       "9      IN  2021-07-23 00:34:49  "
      ]
     },
     "execution_count": 11,
     "metadata": {},
     "output_type": "execute_result"
    }
   ],
   "source": [
    "# Convert the array of dictionaries to a Pandas DataFrame.\n",
    "city_data_df = pd.DataFrame(city_data)\n",
    "city_data_df.head(10)"
   ]
  },
  {
   "cell_type": "code",
   "execution_count": 12,
   "id": "2fab52d1",
   "metadata": {},
   "outputs": [
    {
     "data": {
      "text/html": [
       "<div>\n",
       "<style scoped>\n",
       "    .dataframe tbody tr th:only-of-type {\n",
       "        vertical-align: middle;\n",
       "    }\n",
       "\n",
       "    .dataframe tbody tr th {\n",
       "        vertical-align: top;\n",
       "    }\n",
       "\n",
       "    .dataframe thead th {\n",
       "        text-align: right;\n",
       "    }\n",
       "</style>\n",
       "<table border=\"1\" class=\"dataframe\">\n",
       "  <thead>\n",
       "    <tr style=\"text-align: right;\">\n",
       "      <th></th>\n",
       "      <th>City</th>\n",
       "      <th>Country</th>\n",
       "      <th>Date</th>\n",
       "      <th>Lat</th>\n",
       "      <th>Lng</th>\n",
       "      <th>Max Temp</th>\n",
       "      <th>Humidity</th>\n",
       "      <th>Cloudiness</th>\n",
       "      <th>Wind Speed</th>\n",
       "    </tr>\n",
       "  </thead>\n",
       "  <tbody>\n",
       "    <tr>\n",
       "      <th>0</th>\n",
       "      <td>Bilibino</td>\n",
       "      <td>RU</td>\n",
       "      <td>2021-07-23 00:31:00</td>\n",
       "      <td>68.0546</td>\n",
       "      <td>166.4372</td>\n",
       "      <td>64.80</td>\n",
       "      <td>34</td>\n",
       "      <td>100</td>\n",
       "      <td>3.65</td>\n",
       "    </tr>\n",
       "    <tr>\n",
       "      <th>1</th>\n",
       "      <td>Albany</td>\n",
       "      <td>US</td>\n",
       "      <td>2021-07-23 00:32:14</td>\n",
       "      <td>42.6001</td>\n",
       "      <td>-73.9662</td>\n",
       "      <td>71.64</td>\n",
       "      <td>63</td>\n",
       "      <td>100</td>\n",
       "      <td>9.80</td>\n",
       "    </tr>\n",
       "    <tr>\n",
       "      <th>2</th>\n",
       "      <td>Panalingaan</td>\n",
       "      <td>PH</td>\n",
       "      <td>2021-07-23 00:34:42</td>\n",
       "      <td>8.7842</td>\n",
       "      <td>117.4231</td>\n",
       "      <td>84.15</td>\n",
       "      <td>77</td>\n",
       "      <td>100</td>\n",
       "      <td>11.59</td>\n",
       "    </tr>\n",
       "    <tr>\n",
       "      <th>3</th>\n",
       "      <td>Thompson</td>\n",
       "      <td>CA</td>\n",
       "      <td>2021-07-23 00:34:44</td>\n",
       "      <td>55.7435</td>\n",
       "      <td>-97.8558</td>\n",
       "      <td>82.56</td>\n",
       "      <td>51</td>\n",
       "      <td>40</td>\n",
       "      <td>8.05</td>\n",
       "    </tr>\n",
       "    <tr>\n",
       "      <th>4</th>\n",
       "      <td>Colquiri</td>\n",
       "      <td>BO</td>\n",
       "      <td>2021-07-23 00:34:44</td>\n",
       "      <td>-17.4167</td>\n",
       "      <td>-67.1333</td>\n",
       "      <td>36.36</td>\n",
       "      <td>68</td>\n",
       "      <td>4</td>\n",
       "      <td>4.92</td>\n",
       "    </tr>\n",
       "    <tr>\n",
       "      <th>5</th>\n",
       "      <td>Hongjiang</td>\n",
       "      <td>CN</td>\n",
       "      <td>2021-07-23 00:34:45</td>\n",
       "      <td>27.1100</td>\n",
       "      <td>109.9956</td>\n",
       "      <td>82.45</td>\n",
       "      <td>81</td>\n",
       "      <td>100</td>\n",
       "      <td>3.20</td>\n",
       "    </tr>\n",
       "    <tr>\n",
       "      <th>6</th>\n",
       "      <td>Ushuaia</td>\n",
       "      <td>AR</td>\n",
       "      <td>2021-07-23 00:34:46</td>\n",
       "      <td>-54.8000</td>\n",
       "      <td>-68.3000</td>\n",
       "      <td>40.66</td>\n",
       "      <td>65</td>\n",
       "      <td>75</td>\n",
       "      <td>3.44</td>\n",
       "    </tr>\n",
       "    <tr>\n",
       "      <th>7</th>\n",
       "      <td>Namibe</td>\n",
       "      <td>AO</td>\n",
       "      <td>2021-07-23 00:34:47</td>\n",
       "      <td>-15.1961</td>\n",
       "      <td>12.1522</td>\n",
       "      <td>64.87</td>\n",
       "      <td>81</td>\n",
       "      <td>0</td>\n",
       "      <td>4.56</td>\n",
       "    </tr>\n",
       "    <tr>\n",
       "      <th>8</th>\n",
       "      <td>Ballina</td>\n",
       "      <td>AU</td>\n",
       "      <td>2021-07-23 00:34:48</td>\n",
       "      <td>-28.8667</td>\n",
       "      <td>153.5667</td>\n",
       "      <td>58.96</td>\n",
       "      <td>77</td>\n",
       "      <td>75</td>\n",
       "      <td>4.61</td>\n",
       "    </tr>\n",
       "    <tr>\n",
       "      <th>9</th>\n",
       "      <td>Kavaratti</td>\n",
       "      <td>IN</td>\n",
       "      <td>2021-07-23 00:34:49</td>\n",
       "      <td>10.5669</td>\n",
       "      <td>72.6420</td>\n",
       "      <td>81.59</td>\n",
       "      <td>81</td>\n",
       "      <td>100</td>\n",
       "      <td>25.77</td>\n",
       "    </tr>\n",
       "  </tbody>\n",
       "</table>\n",
       "</div>"
      ],
      "text/plain": [
       "          City Country                 Date      Lat       Lng  Max Temp  \\\n",
       "0     Bilibino      RU  2021-07-23 00:31:00  68.0546  166.4372     64.80   \n",
       "1       Albany      US  2021-07-23 00:32:14  42.6001  -73.9662     71.64   \n",
       "2  Panalingaan      PH  2021-07-23 00:34:42   8.7842  117.4231     84.15   \n",
       "3     Thompson      CA  2021-07-23 00:34:44  55.7435  -97.8558     82.56   \n",
       "4     Colquiri      BO  2021-07-23 00:34:44 -17.4167  -67.1333     36.36   \n",
       "5    Hongjiang      CN  2021-07-23 00:34:45  27.1100  109.9956     82.45   \n",
       "6      Ushuaia      AR  2021-07-23 00:34:46 -54.8000  -68.3000     40.66   \n",
       "7       Namibe      AO  2021-07-23 00:34:47 -15.1961   12.1522     64.87   \n",
       "8      Ballina      AU  2021-07-23 00:34:48 -28.8667  153.5667     58.96   \n",
       "9    Kavaratti      IN  2021-07-23 00:34:49  10.5669   72.6420     81.59   \n",
       "\n",
       "   Humidity  Cloudiness  Wind Speed  \n",
       "0        34         100        3.65  \n",
       "1        63         100        9.80  \n",
       "2        77         100       11.59  \n",
       "3        51          40        8.05  \n",
       "4        68           4        4.92  \n",
       "5        81         100        3.20  \n",
       "6        65          75        3.44  \n",
       "7        81           0        4.56  \n",
       "8        77          75        4.61  \n",
       "9        81         100       25.77  "
      ]
     },
     "execution_count": 12,
     "metadata": {},
     "output_type": "execute_result"
    }
   ],
   "source": [
    "city_data_df = city_data_df[[\"City\",\"Country\",\"Date\",\"Lat\",\"Lng\",\"Max Temp\",\"Humidity\",\"Cloudiness\",\"Wind Speed\"]]\n",
    "city_data_df.head(10)"
   ]
  },
  {
   "cell_type": "code",
   "execution_count": 13,
   "id": "c11620aa",
   "metadata": {},
   "outputs": [],
   "source": [
    "# Create the output file (CSV).\n",
    "output_data_file = \"weather_data/cities.csv\"\n",
    "# Export the City_Data into a CSV.\n",
    "city_data_df.to_csv(output_data_file, index_label=\"City_ID\")"
   ]
  },
  {
   "cell_type": "code",
   "execution_count": null,
   "id": "f5cbb887",
   "metadata": {},
   "outputs": [],
   "source": []
  },
  {
   "cell_type": "code",
   "execution_count": null,
   "id": "d868bdeb",
   "metadata": {},
   "outputs": [],
   "source": []
  },
  {
   "cell_type": "code",
   "execution_count": null,
   "id": "9b329805",
   "metadata": {},
   "outputs": [],
   "source": []
  },
  {
   "cell_type": "code",
   "execution_count": 14,
   "id": "863dcbc9",
   "metadata": {},
   "outputs": [],
   "source": [
    "# Extract relevant fields from the DataFrame for plotting.\n",
    "lats = city_data_df [\"Lat\"]\n",
    "max_temps = city_data_df[\"Max Temp\"]\n",
    "humidity = city_data_df[\"Humidity\"]\n",
    "cloudiness = city_data_df[\"Cloudiness\"]\n",
    "wind_speed = city_data_df[\"Wind Speed\"]"
   ]
  },
  {
   "cell_type": "code",
   "execution_count": 15,
   "id": "cdcda4ee",
   "metadata": {},
   "outputs": [
    {
     "data": {
      "image/png": "[encoded data removed]",
      "text/plain": [
       "<Figure size 432x288 with 1 Axes>"
      ]
     },
     "metadata": {
      "needs_background": "light"
     },
     "output_type": "display_data"
    }
   ],
   "source": [
    "# Import time module\n",
    "import time\n",
    "\n",
    "# Build the scatter plot for the latitude vs. max temperature.\n",
    "plt.scatter(lats,\n",
    "            max_temps,\n",
    "            edgecolor = \"black\", linewidths = 1, marker = \"o\",\n",
    "            alpha = 0.8, label = \"Cities\")\n",
    "\n",
    "# Incorporate the other graph properties\n",
    "plt.title(f\"City Latitude vs. Max Temperature \" + time.strftime(\"%x\"))\n",
    "plt.ylabel(\"Max Temperature (F)\")\n",
    "plt.xlabel(\"Latitude\")\n",
    "plt.grid(True)\n",
    "            \n",
    "#Save the figure\n",
    "plt.savefig(\"weather_data/Fig1.png\")\n",
    "\n",
    "# Show plot\n",
    "plt.show()"
   ]
  },
  {
   "cell_type": "code",
   "execution_count": 16,
   "id": "930b6c61",
   "metadata": {},
   "outputs": [
    {
     "data": {
      "image/png": "[encoded data removed]",
      "text/plain": [
       "<Figure size 432x288 with 1 Axes>"
      ]
     },
     "metadata": {
      "needs_background": "light"
     },
     "output_type": "display_data"
    }
   ],
   "source": [
    "# Build the scatter plots for latitude vs. humidity.\n",
    "plt.scatter(lats,\n",
    "            humidity,\n",
    "            edgecolor=\"black\", linewidths=1, marker=\"o\",\n",
    "            alpha=0.8, label=\"Cities\")\n",
    "\n",
    "# Incorporate the other graph properties.\n",
    "plt.title(f\"City Latitude vs. Humidity \"+ time.strftime(\"%x\"))\n",
    "plt.ylabel(\"Humidity (%)\")\n",
    "plt.xlabel(\"Latitude\")\n",
    "plt.grid(True)\n",
    "# Save the figure.\n",
    "plt.savefig(\"weather_data/Fig2.png\")\n",
    "# Show plot.\n",
    "plt.show()"
   ]
  },
  {
   "cell_type": "code",
   "execution_count": 17,
   "id": "3b6876e6",
   "metadata": {},
   "outputs": [
    {
     "data": {
      "image/png": "[encoded data removed]",
      "text/plain": [
       "<Figure size 432x288 with 1 Axes>"
      ]
     },
     "metadata": {
      "needs_background": "light"
     },
     "output_type": "display_data"
    }
   ],
   "source": [
    "# Build the scatter plots for latitude vs. cloudiness.\n",
    "plt.scatter(lats,\n",
    "            cloudiness,\n",
    "            edgecolor=\"black\", linewidths=1, marker=\"o\",\n",
    "            alpha=0.8, label=\"Cities\")\n",
    "\n",
    "# Incorporate the other graph properties.\n",
    "plt.title(f\"City Latitude vs. Cloudiness (%) \"+ time.strftime(\"%x\"))\n",
    "plt.ylabel(\"Cloudiness (%)\")\n",
    "plt.xlabel(\"Latitude\")\n",
    "plt.grid(True)\n",
    "# Save the figure.\n",
    "plt.savefig(\"weather_data/Fig3.png\")\n",
    "# Show plot.\n",
    "plt.show()"
   ]
  },
  {
   "cell_type": "code",
   "execution_count": 18,
   "id": "52e134d2",
   "metadata": {},
   "outputs": [
    {
     "data": {
      "image/png": "[encoded data removed]",
      "text/plain": [
       "<Figure size 432x288 with 1 Axes>"
      ]
     },
     "metadata": {
      "needs_background": "light"
     },
     "output_type": "display_data"
    }
   ],
   "source": [
    "# Build the scatter plots for latitude vs. wind speed.\n",
    "plt.scatter(lats,\n",
    "            wind_speed,\n",
    "            edgecolor=\"black\", linewidths=1, marker=\"o\",\n",
    "            alpha=0.8, label=\"Cities\")\n",
    "\n",
    "# Incorporate the other graph properties.\n",
    "plt.title(f\"City Latitude vs. Wind Speed \"+ time.strftime(\"%x\"))\n",
    "plt.ylabel(\"Wind Speed (mph)\")\n",
    "plt.xlabel(\"Latitude\")\n",
    "plt.grid(True)\n",
    "# Save the figure.\n",
    "plt.savefig(\"weather_data/Fig4.png\")\n",
    "# Show plot.\n",
    "plt.show()"
   ]
  },
  {
   "cell_type": "code",
   "execution_count": null,
   "id": "c9d8b6fe",
   "metadata": {},
   "outputs": [],
   "source": []
  },
  {
   "cell_type": "code",
   "execution_count": null,
   "id": "e3e0d440",
   "metadata": {},
   "outputs": [],
   "source": []
  },
  {
   "cell_type": "code",
   "execution_count": null,
   "id": "8f16e0d7",
   "metadata": {},
   "outputs": [],
   "source": []
  },
  {
   "cell_type": "code",
   "execution_count": null,
   "id": "fd3d2cba",
   "metadata": {},
   "outputs": [],
   "source": []
  },
  {
   "cell_type": "code",
   "execution_count": null,
   "id": "15676671",
   "metadata": {},
   "outputs": [],
   "source": []
  },
  {
   "cell_type": "code",
   "execution_count": 19,
   "id": "d07b873e",
   "metadata": {},
   "outputs": [],
   "source": [
    "# Import linregress\n",
    "from scipy.stats import linregress\n",
    "\n",
    "# Create a function to create perform linear regression on the weather data\n",
    "# and plot a regression line and the equation with the data.\n",
    "def plot_linear_regression(x_values, y_values, title, y_label, text_coordinates):\n",
    "\n",
    "    # Run regression on hemisphere weather data.\n",
    "    (slope, intercept, r_value, p_value, std_err) = linregress(x_values, y_values)\n",
    "\n",
    "    # Calculate the regression line \"y values\" from the slope and intercept.\n",
    "    regress_values = x_values * slope + intercept\n",
    "    # Get the equation of the line.\n",
    "    line_eq = \"y = \" + str(round(slope,2)) + \"x + \" + str(round(intercept,2))\n",
    "    # Create a scatter plot and plot the regression line.\n",
    "    plt.scatter(x_values,y_values)\n",
    "    plt.plot(x_values,regress_values,\"r\")\n",
    "    # Annotate the text for the line equation.\n",
    "    plt.annotate(line_eq, text_coordinates, fontsize=15, color=\"red\")\n",
    "    plt.xlabel('Latitude')\n",
    "    plt.ylabel(y_label)\n",
    "    plt.show()"
   ]
  },
  {
   "cell_type": "code",
   "execution_count": null,
   "id": "6b287fd1",
   "metadata": {},
   "outputs": [],
   "source": []
  },
  {
   "cell_type": "code",
   "execution_count": 20,
   "id": "a9a46183",
   "metadata": {},
   "outputs": [
    {
     "data": {
      "text/plain": [
       "City                      Camacha\n",
       "Country                        PT\n",
       "Date          2021-07-23 00:34:53\n",
       "Lat                       33.0833\n",
       "Lng                      -16.3333\n",
       "Max Temp                    69.53\n",
       "Humidity                       88\n",
       "Cloudiness                     20\n",
       "Wind Speed                   13.8\n",
       "Name: 13, dtype: object"
      ]
     },
     "execution_count": 20,
     "metadata": {},
     "output_type": "execute_result"
    }
   ],
   "source": [
    "index13 = city_data_df.loc[13]\n",
    "index13 "
   ]
  },
  {
   "cell_type": "code",
   "execution_count": 21,
   "id": "4d07540b",
   "metadata": {},
   "outputs": [
    {
     "data": {
      "text/html": [
       "<div>\n",
       "<style scoped>\n",
       "    .dataframe tbody tr th:only-of-type {\n",
       "        vertical-align: middle;\n",
       "    }\n",
       "\n",
       "    .dataframe tbody tr th {\n",
       "        vertical-align: top;\n",
       "    }\n",
       "\n",
       "    .dataframe thead th {\n",
       "        text-align: right;\n",
       "    }\n",
       "</style>\n",
       "<table border=\"1\" class=\"dataframe\">\n",
       "  <thead>\n",
       "    <tr style=\"text-align: right;\">\n",
       "      <th></th>\n",
       "      <th>City</th>\n",
       "      <th>Country</th>\n",
       "      <th>Date</th>\n",
       "      <th>Lat</th>\n",
       "      <th>Lng</th>\n",
       "      <th>Max Temp</th>\n",
       "      <th>Humidity</th>\n",
       "      <th>Cloudiness</th>\n",
       "      <th>Wind Speed</th>\n",
       "    </tr>\n",
       "  </thead>\n",
       "  <tbody>\n",
       "    <tr>\n",
       "      <th>0</th>\n",
       "      <td>Bilibino</td>\n",
       "      <td>RU</td>\n",
       "      <td>2021-07-23 00:31:00</td>\n",
       "      <td>68.0546</td>\n",
       "      <td>166.4372</td>\n",
       "      <td>64.80</td>\n",
       "      <td>34</td>\n",
       "      <td>100</td>\n",
       "      <td>3.65</td>\n",
       "    </tr>\n",
       "    <tr>\n",
       "      <th>1</th>\n",
       "      <td>Albany</td>\n",
       "      <td>US</td>\n",
       "      <td>2021-07-23 00:32:14</td>\n",
       "      <td>42.6001</td>\n",
       "      <td>-73.9662</td>\n",
       "      <td>71.64</td>\n",
       "      <td>63</td>\n",
       "      <td>100</td>\n",
       "      <td>9.80</td>\n",
       "    </tr>\n",
       "    <tr>\n",
       "      <th>2</th>\n",
       "      <td>Panalingaan</td>\n",
       "      <td>PH</td>\n",
       "      <td>2021-07-23 00:34:42</td>\n",
       "      <td>8.7842</td>\n",
       "      <td>117.4231</td>\n",
       "      <td>84.15</td>\n",
       "      <td>77</td>\n",
       "      <td>100</td>\n",
       "      <td>11.59</td>\n",
       "    </tr>\n",
       "    <tr>\n",
       "      <th>3</th>\n",
       "      <td>Thompson</td>\n",
       "      <td>CA</td>\n",
       "      <td>2021-07-23 00:34:44</td>\n",
       "      <td>55.7435</td>\n",
       "      <td>-97.8558</td>\n",
       "      <td>82.56</td>\n",
       "      <td>51</td>\n",
       "      <td>40</td>\n",
       "      <td>8.05</td>\n",
       "    </tr>\n",
       "    <tr>\n",
       "      <th>5</th>\n",
       "      <td>Hongjiang</td>\n",
       "      <td>CN</td>\n",
       "      <td>2021-07-23 00:34:45</td>\n",
       "      <td>27.1100</td>\n",
       "      <td>109.9956</td>\n",
       "      <td>82.45</td>\n",
       "      <td>81</td>\n",
       "      <td>100</td>\n",
       "      <td>3.20</td>\n",
       "    </tr>\n",
       "  </tbody>\n",
       "</table>\n",
       "</div>"
      ],
      "text/plain": [
       "          City Country                 Date      Lat       Lng  Max Temp  \\\n",
       "0     Bilibino      RU  2021-07-23 00:31:00  68.0546  166.4372     64.80   \n",
       "1       Albany      US  2021-07-23 00:32:14  42.6001  -73.9662     71.64   \n",
       "2  Panalingaan      PH  2021-07-23 00:34:42   8.7842  117.4231     84.15   \n",
       "3     Thompson      CA  2021-07-23 00:34:44  55.7435  -97.8558     82.56   \n",
       "5    Hongjiang      CN  2021-07-23 00:34:45  27.1100  109.9956     82.45   \n",
       "\n",
       "   Humidity  Cloudiness  Wind Speed  \n",
       "0        34         100        3.65  \n",
       "1        63         100        9.80  \n",
       "2        77         100       11.59  \n",
       "3        51          40        8.05  \n",
       "5        81         100        3.20  "
      ]
     },
     "execution_count": 21,
     "metadata": {},
     "output_type": "execute_result"
    }
   ],
   "source": [
    "city_data_df.loc[(city_data_df[\"Lat\"] >= 0)].head()"
   ]
  },
  {
   "cell_type": "code",
   "execution_count": 22,
   "id": "9863abb0",
   "metadata": {},
   "outputs": [],
   "source": [
    "# Create Northern and Southern Hemisphere DataFrames.\n",
    "northern_hemi_df = city_data_df.loc[(city_data_df[\"Lat\"] >= 0)]\n",
    "southern_hemi_df = city_data_df.loc[(city_data_df[\"Lat\"] < 0)]"
   ]
  },
  {
   "cell_type": "code",
   "execution_count": 23,
   "id": "32f6f7b5",
   "metadata": {},
   "outputs": [
    {
     "data": {
      "image/png": "[encoded data removed]",
      "text/plain": [
       "<Figure size 432x288 with 1 Axes>"
      ]
     },
     "metadata": {
      "needs_background": "light"
     },
     "output_type": "display_data"
    }
   ],
   "source": [
    "# Linear regression on the Northern Hemisphere\n",
    "x_values = northern_hemi_df[\"Lat\"]\n",
    "y_values = northern_hemi_df[\"Max Temp\"]\n",
    "# Call the function\n",
    "plot_linear_regression(x_values,y_values,\n",
    "                      'Linear Regression on the Northern Hemisphere \\\n",
    "                      for Maximum temperature', 'Max Temp', (10,40))"
   ]
  },
  {
   "cell_type": "code",
   "execution_count": 24,
   "id": "133c8eef",
   "metadata": {},
   "outputs": [
    {
     "data": {
      "image/png": "[encoded data removed]",
      "text/plain": [
       "<Figure size 432x288 with 1 Axes>"
      ]
     },
     "metadata": {
      "needs_background": "light"
     },
     "output_type": "display_data"
    }
   ],
   "source": [
    "# Linear regression on the Southern Hemisphere\n",
    "x_values = southern_hemi_df[\"Lat\"]\n",
    "y_values = southern_hemi_df[\"Max Temp\"]\n",
    "# Call the function.\n",
    "plot_linear_regression(x_values, y_values,\n",
    "                       'Linear Regression on the Southern Hemisphere \\\n",
    "                        for Maximum Temperature', 'Max Temp',(-50,90))"
   ]
  },
  {
   "cell_type": "markdown",
   "id": "12582194",
   "metadata": {},
   "source": [
    "### The correlation between the latitude and the maximum temperature is strong to very strong because the r-value is less than –0.7 for the Northern Hemisphere and greater than 0.7 for the Southern Hemisphere, as shown by the plots here. This means that as we approach the equator, 0° latitude, the temperatures become warmer. And when we are further from the equator the temperatures become cooler. Check the r-values for your plots. "
   ]
  },
  {
   "cell_type": "code",
   "execution_count": 25,
   "id": "2abf7e43",
   "metadata": {},
   "outputs": [
    {
     "data": {
      "image/png": "[encoded data removed]",
      "text/plain": [
       "<Figure size 432x288 with 1 Axes>"
      ]
     },
     "metadata": {
      "needs_background": "light"
     },
     "output_type": "display_data"
    }
   ],
   "source": [
    "# Linear regression on the Northern Hemisphere\n",
    "x_values = northern_hemi_df[\"Lat\"]\n",
    "y_values = northern_hemi_df[\"Humidity\"]\n",
    "# Call the function.\n",
    "plot_linear_regression(x_values, y_values,\n",
    "                       'Linear Regression on the Northern Hemisphere \\\n",
    "                        for % Humidity', '% Humidity',(40,10))"
   ]
  },
  {
   "cell_type": "code",
   "execution_count": 26,
   "id": "c0613331",
   "metadata": {},
   "outputs": [
    {
     "data": {
      "image/png": "[encoded data removed]",
      "text/plain": [
       "<Figure size 432x288 with 1 Axes>"
      ]
     },
     "metadata": {
      "needs_background": "light"
     },
     "output_type": "display_data"
    }
   ],
   "source": [
    "# Linear regression on the Southern Hemisphere\n",
    "x_values = southern_hemi_df[\"Lat\"]\n",
    "y_values = southern_hemi_df[\"Humidity\"]\n",
    "# Call the function.\n",
    "plot_linear_regression(x_values, y_values,\n",
    "                       'Linear Regression on the Southern Hemisphere \\\n",
    "                        for % Humidity', '% Humidity',(-50,30))"
   ]
  },
  {
   "cell_type": "markdown",
   "id": "a9ee0bc7",
   "metadata": {},
   "source": [
    "### The correlation between the latitude and percent humidity is very low because the r-value is less than 0.04 for the Northern and Southern Hemispheres for the plots shown here. This means that percent humidity is unpredictable due to changing weather patterns that can increase or decrease percent humidity. Check the r-values for your plots. "
   ]
  },
  {
   "cell_type": "code",
   "execution_count": 27,
   "id": "7c346d2c",
   "metadata": {},
   "outputs": [
    {
     "data": {
      "image/png": "[encoded data removed]",
      "text/plain": [
       "<Figure size 432x288 with 1 Axes>"
      ]
     },
     "metadata": {
      "needs_background": "light"
     },
     "output_type": "display_data"
    }
   ],
   "source": [
    "# Linear regression on the Northern Hemisphere\n",
    "x_values = northern_hemi_df[\"Lat\"]\n",
    "y_values = northern_hemi_df[\"Cloudiness\"]\n",
    "# Call the function.\n",
    "plot_linear_regression(x_values, y_values,\n",
    "                       'Linear Regression on the Northern Hemisphere \\\n",
    "                        for % Cloudiness', '% Cloudiness',(40,10))"
   ]
  },
  {
   "cell_type": "code",
   "execution_count": 28,
   "id": "0422aee5",
   "metadata": {},
   "outputs": [
    {
     "data": {
      "image/png": "[encoded data removed]",
      "text/plain": [
       "<Figure size 432x288 with 1 Axes>"
      ]
     },
     "metadata": {
      "needs_background": "light"
     },
     "output_type": "display_data"
    }
   ],
   "source": [
    "# Linear regression on the Northern Hemisphere\n",
    "x_values = southern_hemi_df[\"Lat\"]\n",
    "y_values = southern_hemi_df[\"Cloudiness\"]\n",
    "# Call the function.\n",
    "plot_linear_regression(x_values, y_values,\n",
    "                       'Linear Regression on the Southern Hemisphere \\\n",
    "                        for % Cloudiness', '% Cloudiness',(-50,10))"
   ]
  },
  {
   "cell_type": "markdown",
   "id": "990e2048",
   "metadata": {},
   "source": [
    "### The correlation between the latitude and percent cloudiness is very low because the r-value is less than –0.09 for the Northern Hemisphere and less than –0.02 for the Southern Hemisphere for the plots shown here. This means that cloudiness is unpredictable due to changing weather patterns that can increase or decrease percent cloudiness. Check the r-values for your plots. "
   ]
  },
  {
   "cell_type": "code",
   "execution_count": 29,
   "id": "1c3bab31",
   "metadata": {},
   "outputs": [
    {
     "data": {
      "image/png": "[encoded data removed]",
      "text/plain": [
       "<Figure size 432x288 with 1 Axes>"
      ]
     },
     "metadata": {
      "needs_background": "light"
     },
     "output_type": "display_data"
    }
   ],
   "source": [
    "# Linear regression on the Northern Hemisphere\n",
    "x_values = northern_hemi_df[\"Lat\"]\n",
    "y_values = northern_hemi_df[\"Wind Speed\"]\n",
    "# Call the function.\n",
    "plot_linear_regression(x_values, y_values,\n",
    "                       'Linear Regression on the Northern Hemisphere \\\n",
    "                        for Wind Speed', 'Wind Speed',(40,20))"
   ]
  },
  {
   "cell_type": "code",
   "execution_count": 30,
   "id": "17393924",
   "metadata": {},
   "outputs": [
    {
     "data": {
      "image/png": "[encoded data removed]",
      "text/plain": [
       "<Figure size 432x288 with 1 Axes>"
      ]
     },
     "metadata": {
      "needs_background": "light"
     },
     "output_type": "display_data"
    }
   ],
   "source": [
    "# Linear regression on the Southern Hemisphere\n",
    "x_values = southern_hemi_df[\"Lat\"]\n",
    "y_values = southern_hemi_df[\"Wind Speed\"]\n",
    "# Call the function.\n",
    "plot_linear_regression(x_values, y_values,\n",
    "                       'Linear Regression on the Southern Hemisphere \\\n",
    "                        for Wind Speed', 'Wind Speed',(-50,20))"
   ]
  },
  {
   "cell_type": "markdown",
   "id": "9c3efdc1",
   "metadata": {},
   "source": [
    "### The correlation between the latitude and wind speed is very low because the r-value is less  than –0.07 for the Northern Hemisphere and less than –0.3 for the Southern Hemisphere for the plots shown here. This means that wind speed is unpredictable due to changing weather patterns that can increase or decrease wind speed. Check the r-values for your plots. "
   ]
  },
  {
   "cell_type": "code",
   "execution_count": null,
   "id": "3eaf71c5",
   "metadata": {},
   "outputs": [],
   "source": []
  },
  {
   "cell_type": "code",
   "execution_count": null,
   "id": "d85df0aa",
   "metadata": {},
   "outputs": [],
   "source": []
  },
  {
   "cell_type": "code",
   "execution_count": null,
   "id": "f6f1abed",
   "metadata": {},
   "outputs": [],
   "source": []
  },
  {
   "cell_type": "code",
   "execution_count": null,
   "id": "31994ce6",
   "metadata": {},
   "outputs": [],
   "source": []
  },
  {
   "cell_type": "code",
   "execution_count": null,
   "id": "18c0f3ff",
   "metadata": {},
   "outputs": [],
   "source": []
  }
 ],
 "metadata": {
  "kernelspec": {
   "display_name": "PythonData",
   "language": "python",
   "name": "pythondata"
  },
  "language_info": {
   "codemirror_mode": {
    "name": "ipython",
    "version": 3
   },
   "file_extension": ".py",
   "mimetype": "text/x-python",
   "name": "python",
   "nbconvert_exporter": "python",
   "pygments_lexer": "ipython3",
   "version": "3.7.10"
  }
 },
 "nbformat": 4,
 "nbformat_minor": 5
}
